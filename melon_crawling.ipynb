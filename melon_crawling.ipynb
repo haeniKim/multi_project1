{
 "cells": [
  {
   "cell_type": "markdown",
   "metadata": {},
   "source": [
    "# 멜론 사이트 년도별 TOP 50 곡정보 크롤링"
   ]
  },
  {
   "cell_type": "code",
   "execution_count": 1,
   "metadata": {},
   "outputs": [],
   "source": [
    "from urllib.request import urlopen\n",
    "from bs4 import BeautifulSoup\n",
    "import pandas as pd\n",
    "import numpy as np\n",
    "import urllib.request\n",
    "import urllib.parse\n",
    "import re\n",
    "import time\n",
    "from selenium import webdriver\n",
    "from selenium.common.exceptions import NoSuchElementException"
   ]
  },
  {
   "cell_type": "code",
   "execution_count": 2,
   "metadata": {},
   "outputs": [],
   "source": [
    "driver = webdriver.Chrome('C:/chromedriver_win32/chromedriver.exe') #크롬 드라이버 접근\n",
    "driver.implicitly_wait(1)"
   ]
  },
  {
   "cell_type": "code",
   "execution_count": 3,
   "metadata": {},
   "outputs": [],
   "source": [
    "url = 'https://www.melon.com/chart/age/index.htm?chartType=YE&chartGenre=KPOP&chartDate='\n",
    "year_list = ['2010','2011','2012','2013','2014', '2015','2016','2017','2018','2019']\n",
    "#'1990','1991','1992','1993','1994','1995','1996','1997','1998','1999', '2000', '2001','2002','2003','2004','2005','2006','2007','2008','2009','2010','2011','2012','2013','2014', '2015','2016','2017','2018','2019']\n",
    "#전체 데이터를 담을 곳\n",
    "df = pd.DataFrame() \n",
    "\n",
    "jenre = [] \n",
    "lyrics = []\n",
    "titles = []\n",
    "year = []\n",
    "\n",
    "for y in range(len(year_list)):\n",
    "    driver.get(url+year_list[y]) #연도 선택 - 반복문 \n",
    "\n",
    "#     jenre = [] \n",
    "#     lyrics = []\n",
    "#     titles = []\n",
    "#     year = []\n",
    "\n",
    "    for i in range(50):\n",
    "\n",
    "        info_list = driver.find_elements_by_css_selector('#lst50 > td:nth-child(4) > div > a') #Top50 리스트 #Top50 리스트\n",
    "        info_list[i].click() #곡정보 선택\n",
    "        time.sleep(2)\n",
    "\n",
    "        #가사 펼치기\n",
    "        try:\n",
    "            driver.find_element_by_css_selector('.button_more.arrow_d').click()\n",
    "            time.sleep(2)\n",
    "        except NoSuchElementException: #가사가 없는 경우 펼치기 수행x\n",
    "            pass\n",
    "\n",
    "\n",
    "\n",
    "        #장르, 가사, 노래 제목 크롤링\n",
    "        titles.append(driver.find_element_by_css_selector('#downloadfrm > div > div > div.entry > div.info > div.song_name').text)\n",
    "        jenre.append(driver.find_element_by_css_selector('#downloadfrm > div > div > div.entry > div.meta > dl > dd:nth-child(6)').text)\n",
    "        lyrics.append(driver.find_element_by_css_selector('#lyricArea').text)\n",
    "        year.append(year_list[y])\n",
    "\n",
    "        driver.back()\n",
    "        time.sleep(2)\n",
    "\n",
    "df = pd.DataFrame(zip(year, titles, jenre, lyrics), columns=['year','titles','jenre','lyrics'])\n",
    "\n",
    "\n",
    "time.sleep(2)\n",
    "driver.close()"
   ]
  },
  {
   "cell_type": "code",
   "execution_count": 4,
   "metadata": {},
   "outputs": [
    {
     "data": {
      "text/html": [
       "<div>\n",
       "<style scoped>\n",
       "    .dataframe tbody tr th:only-of-type {\n",
       "        vertical-align: middle;\n",
       "    }\n",
       "\n",
       "    .dataframe tbody tr th {\n",
       "        vertical-align: top;\n",
       "    }\n",
       "\n",
       "    .dataframe thead th {\n",
       "        text-align: right;\n",
       "    }\n",
       "</style>\n",
       "<table border=\"1\" class=\"dataframe\">\n",
       "  <thead>\n",
       "    <tr style=\"text-align: right;\">\n",
       "      <th></th>\n",
       "      <th>year</th>\n",
       "      <th>titles</th>\n",
       "      <th>jenre</th>\n",
       "      <th>lyrics</th>\n",
       "    </tr>\n",
       "  </thead>\n",
       "  <tbody>\n",
       "    <tr>\n",
       "      <th>0</th>\n",
       "      <td>2010</td>\n",
       "      <td>Bad Girl Good Girl</td>\n",
       "      <td>댄스</td>\n",
       "      <td>You don't know me\\n\\nYou don't know me\\n\\nYou ...</td>\n",
       "    </tr>\n",
       "    <tr>\n",
       "      <th>1</th>\n",
       "      <td>2010</td>\n",
       "      <td>잔소리 (With 2AM 슬옹)</td>\n",
       "      <td>발라드</td>\n",
       "      <td>늦게 다니지좀 마\\n\\n술은 멀리좀 해봐\\n\\n열살짜리 애처럼 말을 안듣니\\n\\n정...</td>\n",
       "    </tr>\n",
       "    <tr>\n",
       "      <th>2</th>\n",
       "      <td>2010</td>\n",
       "      <td>죽을 만큼 아파서 (Feat. 멜로우)</td>\n",
       "      <td>랩/힙합</td>\n",
       "      <td>I found the way to\\nlet you leave\\nI never rea...</td>\n",
       "    </tr>\n",
       "    <tr>\n",
       "      <th>3</th>\n",
       "      <td>2010</td>\n",
       "      <td>못해 (Feat. 美)</td>\n",
       "      <td>발라드</td>\n",
       "      <td>이제는 밥을 먹어도\\n눈물없이는 삼키지 못해\\n억지로 먹고 먹어도 속이 늘 허전해\\...</td>\n",
       "    </tr>\n",
       "    <tr>\n",
       "      <th>4</th>\n",
       "      <td>2010</td>\n",
       "      <td>죽어도 못 보내</td>\n",
       "      <td>발라드</td>\n",
       "      <td>어려도 아픈건 똑같아\\n세상을 잘 모른다고\\n아픈걸 모르진 않아\\n괜찮아 질거라고 ...</td>\n",
       "    </tr>\n",
       "  </tbody>\n",
       "</table>\n",
       "</div>"
      ],
      "text/plain": [
       "   year                 titles jenre  \\\n",
       "0  2010     Bad Girl Good Girl    댄스   \n",
       "1  2010      잔소리 (With 2AM 슬옹)   발라드   \n",
       "2  2010  죽을 만큼 아파서 (Feat. 멜로우)  랩/힙합   \n",
       "3  2010           못해 (Feat. 美)   발라드   \n",
       "4  2010               죽어도 못 보내   발라드   \n",
       "\n",
       "                                              lyrics  \n",
       "0  You don't know me\\n\\nYou don't know me\\n\\nYou ...  \n",
       "1  늦게 다니지좀 마\\n\\n술은 멀리좀 해봐\\n\\n열살짜리 애처럼 말을 안듣니\\n\\n정...  \n",
       "2  I found the way to\\nlet you leave\\nI never rea...  \n",
       "3  이제는 밥을 먹어도\\n눈물없이는 삼키지 못해\\n억지로 먹고 먹어도 속이 늘 허전해\\...  \n",
       "4  어려도 아픈건 똑같아\\n세상을 잘 모른다고\\n아픈걸 모르진 않아\\n괜찮아 질거라고 ...  "
      ]
     },
     "execution_count": 4,
     "metadata": {},
     "output_type": "execute_result"
    }
   ],
   "source": [
    "df.head()"
   ]
  },
  {
   "cell_type": "code",
   "execution_count": 5,
   "metadata": {},
   "outputs": [],
   "source": [
    "df.to_csv('C:/Users/haeni_kim/Desktop/PROJECT/multi_project/melon_10.csv',encoding = 'utf-8-sig')"
   ]
  },
  {
   "cell_type": "code",
   "execution_count": null,
   "metadata": {},
   "outputs": [],
   "source": []
  }
 ],
 "metadata": {
  "kernelspec": {
   "display_name": "Python 3",
   "language": "python",
   "name": "python3"
  },
  "language_info": {
   "codemirror_mode": {
    "name": "ipython",
    "version": 3
   },
   "file_extension": ".py",
   "mimetype": "text/x-python",
   "name": "python",
   "nbconvert_exporter": "python",
   "pygments_lexer": "ipython3",
   "version": "3.8.5"
  }
 },
 "nbformat": 4,
 "nbformat_minor": 4
}
