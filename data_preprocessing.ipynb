{
 "cells": [
  {
   "cell_type": "code",
   "execution_count": 30,
   "metadata": {},
   "outputs": [],
   "source": [
    "import pandas as pd"
   ]
  },
  {
   "cell_type": "code",
   "execution_count": 31,
   "metadata": {},
   "outputs": [],
   "source": [
    "df = pd.read_csv('C:/Users/haeni_kim/Desktop/PROJECT/multi_project/melon.csv', encoding='CP949')"
   ]
  },
  {
   "cell_type": "code",
   "execution_count": 32,
   "metadata": {
    "scrolled": true
   },
   "outputs": [
    {
     "data": {
      "text/html": [
       "<div>\n",
       "<style scoped>\n",
       "    .dataframe tbody tr th:only-of-type {\n",
       "        vertical-align: middle;\n",
       "    }\n",
       "\n",
       "    .dataframe tbody tr th {\n",
       "        vertical-align: top;\n",
       "    }\n",
       "\n",
       "    .dataframe thead th {\n",
       "        text-align: right;\n",
       "    }\n",
       "</style>\n",
       "<table border=\"1\" class=\"dataframe\">\n",
       "  <thead>\n",
       "    <tr style=\"text-align: right;\">\n",
       "      <th></th>\n",
       "      <th>year</th>\n",
       "      <th>rank</th>\n",
       "      <th>title</th>\n",
       "      <th>jenre</th>\n",
       "      <th>singer</th>\n",
       "      <th>type</th>\n",
       "      <th>lyrics</th>\n",
       "      <th>likes</th>\n",
       "      <th>image</th>\n",
       "    </tr>\n",
       "  </thead>\n",
       "  <tbody>\n",
       "    <tr>\n",
       "      <th>0</th>\n",
       "      <td>1990</td>\n",
       "      <td>1</td>\n",
       "      <td>희망사항</td>\n",
       "      <td>발라드</td>\n",
       "      <td>변진섭</td>\n",
       "      <td>남자솔로</td>\n",
       "      <td>청바지가 잘 어울리는 여자\\n밥을 많이 먹어도\\n배 안나오는 여자\\n내 얘기가 재미...</td>\n",
       "      <td>11298</td>\n",
       "      <td>https://cdnimg.melon.co.kr/cm/album/images/000...</td>\n",
       "    </tr>\n",
       "    <tr>\n",
       "      <th>1</th>\n",
       "      <td>1990</td>\n",
       "      <td>2</td>\n",
       "      <td>사랑일뿐야</td>\n",
       "      <td>발라드</td>\n",
       "      <td>김민우</td>\n",
       "      <td>남자솔로</td>\n",
       "      <td>나를 어떻게\\n생각하냐고\\n너는 내게 묻지만\\n대답하기는 힘들어\\n너에게 이런\\n얘...</td>\n",
       "      <td>18478</td>\n",
       "      <td>https://cdnimg.melon.co.kr/cm/album/images/000...</td>\n",
       "    </tr>\n",
       "    <tr>\n",
       "      <th>2</th>\n",
       "      <td>1990</td>\n",
       "      <td>3</td>\n",
       "      <td>유리창엔 비</td>\n",
       "      <td>발라드</td>\n",
       "      <td>햇빛촌</td>\n",
       "      <td>남자그룹</td>\n",
       "      <td>낮부터 내린 비는\\n이 저녁 유리창에\\n이슬만 뿌려놓고서\\n밤이 되면 더욱 커지는\\...</td>\n",
       "      <td>2685</td>\n",
       "      <td>https://cdnimg.melon.co.kr/cm/album/images/000...</td>\n",
       "    </tr>\n",
       "    <tr>\n",
       "      <th>3</th>\n",
       "      <td>1990</td>\n",
       "      <td>4</td>\n",
       "      <td>비오는 날 수채화</td>\n",
       "      <td>록/메탈</td>\n",
       "      <td>김현식, 강인원, 권인하</td>\n",
       "      <td>혼성그룹</td>\n",
       "      <td>빗방울 떨어지는 그 거리에 서서\\n그대 숨소리 살아있는 듯\\n느껴지면\\n깨끗한 붓 ...</td>\n",
       "      <td>8727</td>\n",
       "      <td>https://cdnimg.melon.co.kr/cm/album/images/000...</td>\n",
       "    </tr>\n",
       "    <tr>\n",
       "      <th>4</th>\n",
       "      <td>1990</td>\n",
       "      <td>5</td>\n",
       "      <td>마지막 콘서트</td>\n",
       "      <td>발라드</td>\n",
       "      <td>이승철</td>\n",
       "      <td>남자솔로</td>\n",
       "      <td>지금 슬픈 내 모습은\\n무대뒤 한 소녀\\n애써 눈물 참으며\\n바라보고 있네\\n무대 ...</td>\n",
       "      <td>3789</td>\n",
       "      <td>https://cdnimg.melon.co.kr/cm/album/images/000...</td>\n",
       "    </tr>\n",
       "  </tbody>\n",
       "</table>\n",
       "</div>"
      ],
      "text/plain": [
       "   year  rank      title jenre         singer  type  \\\n",
       "0  1990     1       희망사항   발라드            변진섭  남자솔로   \n",
       "1  1990     2      사랑일뿐야   발라드            김민우  남자솔로   \n",
       "2  1990     3     유리창엔 비   발라드            햇빛촌  남자그룹   \n",
       "3  1990     4  비오는 날 수채화  록/메탈  김현식, 강인원, 권인하  혼성그룹   \n",
       "4  1990     5    마지막 콘서트   발라드            이승철  남자솔로   \n",
       "\n",
       "                                              lyrics  likes  \\\n",
       "0  청바지가 잘 어울리는 여자\\n밥을 많이 먹어도\\n배 안나오는 여자\\n내 얘기가 재미...  11298   \n",
       "1  나를 어떻게\\n생각하냐고\\n너는 내게 묻지만\\n대답하기는 힘들어\\n너에게 이런\\n얘...  18478   \n",
       "2  낮부터 내린 비는\\n이 저녁 유리창에\\n이슬만 뿌려놓고서\\n밤이 되면 더욱 커지는\\...   2685   \n",
       "3  빗방울 떨어지는 그 거리에 서서\\n그대 숨소리 살아있는 듯\\n느껴지면\\n깨끗한 붓 ...   8727   \n",
       "4  지금 슬픈 내 모습은\\n무대뒤 한 소녀\\n애써 눈물 참으며\\n바라보고 있네\\n무대 ...   3789   \n",
       "\n",
       "                                               image  \n",
       "0  https://cdnimg.melon.co.kr/cm/album/images/000...  \n",
       "1  https://cdnimg.melon.co.kr/cm/album/images/000...  \n",
       "2  https://cdnimg.melon.co.kr/cm/album/images/000...  \n",
       "3  https://cdnimg.melon.co.kr/cm/album/images/000...  \n",
       "4  https://cdnimg.melon.co.kr/cm/album/images/000...  "
      ]
     },
     "execution_count": 32,
     "metadata": {},
     "output_type": "execute_result"
    }
   ],
   "source": [
    "df.head()"
   ]
  },
  {
   "cell_type": "code",
   "execution_count": 33,
   "metadata": {},
   "outputs": [
    {
     "name": "stdout",
     "output_type": "stream",
     "text": [
      "<class 'pandas.core.frame.DataFrame'>\n",
      "RangeIndex: 1500 entries, 0 to 1499\n",
      "Data columns (total 9 columns):\n",
      " #   Column  Non-Null Count  Dtype \n",
      "---  ------  --------------  ----- \n",
      " 0   year    1500 non-null   int64 \n",
      " 1   rank    1500 non-null   int64 \n",
      " 2   title   1500 non-null   object\n",
      " 3   jenre   1500 non-null   object\n",
      " 4   singer  1500 non-null   object\n",
      " 5   type    1500 non-null   object\n",
      " 6   lyrics  1500 non-null   object\n",
      " 7   likes   1500 non-null   int64 \n",
      " 8   image   1500 non-null   object\n",
      "dtypes: int64(3), object(6)\n",
      "memory usage: 105.6+ KB\n"
     ]
    }
   ],
   "source": [
    "df.info()"
   ]
  },
  {
   "cell_type": "code",
   "execution_count": 34,
   "metadata": {},
   "outputs": [],
   "source": [
    "#df['lyrics'][0].replace('\\n', ' ')\n",
    "lyrics = [ly.replace('\\n', ' ') for ly in df['lyrics']]"
   ]
  },
  {
   "cell_type": "code",
   "execution_count": 35,
   "metadata": {},
   "outputs": [],
   "source": [
    "#가사 변환 \\n -> ' '\n",
    "df['lyrics'] = lyrics"
   ]
  },
  {
   "cell_type": "code",
   "execution_count": 36,
   "metadata": {},
   "outputs": [
    {
     "data": {
      "text/plain": [
       "0       청바지가 잘 어울리는 여자 밥을 많이 먹어도 배 안나오는 여자 내 얘기가 재미 없어...\n",
       "1       나를 어떻게 생각하냐고 너는 내게 묻지만 대답하기는 힘들어 너에게 이런 얘길 한다면...\n",
       "2       낮부터 내린 비는 이 저녁 유리창에 이슬만 뿌려놓고서 밤이 되면 더욱 커지는 시계소...\n",
       "3       빗방울 떨어지는 그 거리에 서서 그대 숨소리 살아있는 듯 느껴지면 깨끗한 붓 하나를...\n",
       "4       지금 슬픈 내 모습은 무대뒤 한 소녀 애써 눈물 참으며 바라보고 있네 무대 뒤에 그...\n",
       "                              ...                        \n",
       "1495    비가 내리다 말다 우산을 챙길까 말까 tv엔 맑음이라던데 네 마음도 헷갈리나봐 비가...\n",
       "1496    Don't walk away I'm falling down Don't walk aw...\n",
       "1497    Hey boy Look I’m gonna make this simple for yo...\n",
       "1498    차갑도록 서롤 겨눈 채 날이 선 듯 그 목소리엔 숨막히는 것만 가득해 Oh oh o...\n",
       "1499    멀어져 가는 오후를 바라보다 스쳐 지나가 버린 그때 생각이나 기억 모퉁이에 적혀 있...\n",
       "Name: lyrics, Length: 1500, dtype: object"
      ]
     },
     "execution_count": 36,
     "metadata": {},
     "output_type": "execute_result"
    }
   ],
   "source": [
    "df['lyrics']"
   ]
  },
  {
   "cell_type": "code",
   "execution_count": 37,
   "metadata": {},
   "outputs": [],
   "source": [
    "df.to_csv('C:/Users/haeni_kim/Desktop/PROJECT/multi_project/melon_data.csv',encoding = 'utf-8-sig')"
   ]
  },
  {
   "cell_type": "code",
   "execution_count": null,
   "metadata": {},
   "outputs": [],
   "source": []
  }
 ],
 "metadata": {
  "kernelspec": {
   "display_name": "Python 3",
   "language": "python",
   "name": "python3"
  },
  "language_info": {
   "codemirror_mode": {
    "name": "ipython",
    "version": 3
   },
   "file_extension": ".py",
   "mimetype": "text/x-python",
   "name": "python",
   "nbconvert_exporter": "python",
   "pygments_lexer": "ipython3",
   "version": "3.8.5"
  }
 },
 "nbformat": 4,
 "nbformat_minor": 4
}
